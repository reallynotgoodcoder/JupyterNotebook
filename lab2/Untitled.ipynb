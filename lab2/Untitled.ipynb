{
 "cells": [
  {
   "cell_type": "code",
   "execution_count": 3,
   "id": "28a9cf56-b19f-418e-8445-db277ef4736d",
   "metadata": {},
   "outputs": [],
   "source": [
    "import pandas\n",
    "data = pandas.read_csv(\"source.csv\")"
   ]
  },
  {
   "cell_type": "code",
   "execution_count": 2,
   "id": "aa37dab1-e5c4-4b3b-9af6-51814cee7664",
   "metadata": {},
   "outputs": [
    {
     "name": "stdout",
     "output_type": "stream",
     "text": [
      "Перше завдання:\n",
      "   Id       Name  Year Gender  Count\n",
      "0   1       Mary  1880      F   7065\n",
      "1   2       Anna  1880      F   2604\n",
      "2   3       Emma  1880      F   2003\n",
      "3   4  Elizabeth  1880      F   1939\n",
      "4   5     Minnie  1880      F   1746\n",
      "5   6   Margaret  1880      F   1578\n",
      "6   7        Ida  1880      F   1472\n",
      "7   8      Alice  1880      F   1414 \n",
      "\n"
     ]
    }
   ],
   "source": [
    "# Перше завдання:\n",
    "print(\"Перше завдання:\")\n",
    "print(data.head(8), \"\\n\")"
   ]
  },
  {
   "cell_type": "code",
   "execution_count": 3,
   "id": "3d3c4727-2766-423d-ad25-045e23e5fd52",
   "metadata": {},
   "outputs": [
    {
     "name": "stdout",
     "output_type": "stream",
     "text": [
      "Друге завдання:\n",
      "              Id     Name  Year Gender  Count\n",
      "1825425  1825426       Zo  2014      M      5\n",
      "1825426  1825427    Zyeir  2014      M      5\n",
      "1825427  1825428     Zyel  2014      M      5\n",
      "1825428  1825429   Zykeem  2014      M      5\n",
      "1825429  1825430   Zymeer  2014      M      5\n",
      "1825430  1825431  Zymiere  2014      M      5\n",
      "1825431  1825432    Zyran  2014      M      5\n",
      "1825432  1825433    Zyrin  2014      M      5 \n",
      "\n"
     ]
    }
   ],
   "source": [
    "# Друге завдання:\n",
    "print(\"Друге завдання:\")\n",
    "print(data.tail(8), \"\\n\")"
   ]
  },
  {
   "cell_type": "code",
   "execution_count": 4,
   "id": "4ba1fb6a-8e45-4e13-9416-09ffa9de4b45",
   "metadata": {},
   "outputs": [
    {
     "name": "stdout",
     "output_type": "stream",
     "text": [
      "Третє завдання:\n",
      "Index(['Id', 'Name', 'Year', 'Gender', 'Count'], dtype='object') \n",
      "\n"
     ]
    }
   ],
   "source": [
    "# Третє завдання:\n",
    "print(\"Третє завдання:\")\n",
    "print(data.columns, \"\\n\")"
   ]
  },
  {
   "cell_type": "code",
   "execution_count": 5,
   "id": "f7255beb-fbf8-497f-bd5f-6c7cbd7fe639",
   "metadata": {},
   "outputs": [
    {
     "name": "stdout",
     "output_type": "stream",
     "text": [
      "П'яте завдання:\n",
      "93889 \n",
      "\n"
     ]
    }
   ],
   "source": [
    "# П'яте завдання:\n",
    "print(\"П'яте завдання:\")\n",
    "print(data[\"Name\"].nunique(), \"\\n\")"
   ]
  },
  {
   "cell_type": "code",
   "execution_count": 6,
   "id": "6614fb2c-9890-4bb3-afc6-e9770f23c3d4",
   "metadata": {},
   "outputs": [
    {
     "name": "stdout",
     "output_type": "stream",
     "text": [
      "Десяте завдання:\n",
      "Year\n",
      "1880     1889\n",
      "1881     1830\n",
      "1882     2012\n",
      "1883     1962\n",
      "1884     2158\n",
      "        ...  \n",
      "2010    31603\n",
      "2011    31418\n",
      "2012    31236\n",
      "2013    30774\n",
      "2014    30579\n",
      "Name: Name, Length: 135, dtype: int64 \n",
      "\n"
     ]
    }
   ],
   "source": [
    "# Десяте завдання:\n",
    "print(\"Десяте завдання:\")\n",
    "print(data.groupby(\"Year\")[\"Name\"].nunique(), \"\\n\")"
   ]
  },
  {
   "cell_type": "code",
   "execution_count": 7,
   "id": "332d9b5f-dedd-4a44-8a83-a4cddd9ec9d8",
   "metadata": {},
   "outputs": [
    {
     "name": "stdout",
     "output_type": "stream",
     "text": [
      "Одинадцяте завдання:\n",
      "Year\n",
      "2008    32488\n",
      "Name: Name, dtype: int64 \n",
      "\n"
     ]
    }
   ],
   "source": [
    "# Одинадцяте завдання:\n",
    "print(\"Одинадцяте завдання:\")\n",
    "unique_names = data.groupby(\"Year\")[\"Name\"].nunique()\n",
    "year_value = unique_names[unique_names == unique_names.max()]\n",
    "print(year_value, \"\\n\")"
   ]
  },
  {
   "cell_type": "code",
   "execution_count": 8,
   "id": "895dee9f-99c1-4e6b-a676-9776fc16bf36",
   "metadata": {},
   "outputs": [
    {
     "name": "stdout",
     "output_type": "stream",
     "text": [
      "Дванадцяте завдання:\n",
      "Jacob \n",
      "\n"
     ]
    }
   ],
   "source": [
    "# Дванадцяте завдання\n",
    "print(\"Дванадцяте завдання:\")\n",
    "unique_names = data.groupby(\"Year\")[\"Name\"].nunique()\n",
    "max_years = unique_names[unique_names == unique_names.max()].index\n",
    "print(data[data[\"Year\"].isin(max_years)].groupby(\"Name\")[\"Count\"].sum().idxmax(), \"\\n\")"
   ]
  },
  {
   "cell_type": "code",
   "execution_count": 9,
   "id": "ab3cf6c0-0522-4902-a3bf-326034559c94",
   "metadata": {},
   "outputs": [
    {
     "name": "stdout",
     "output_type": "stream",
     "text": [
      "Тринадцяте завдання:\n",
      "              Id   Name  Year Gender Count\n",
      "1455556  1455557  Jacob  2004      F   171 \n",
      "\n"
     ]
    }
   ],
   "source": [
    "# Тринадцяте завдання\n",
    "print(\"Тринадцяте завдання:\")\n",
    "jacob_female = data[(data[\"Name\"] == \"Jacob\") & (data[\"Gender\"] == \"F\")]\n",
    "id_max_number = jacob_female[\"Count\"].idxmax()\n",
    "print(jacob_female.loc[id_max_number].to_frame().T, \"\\n\")"
   ]
  },
  {
   "cell_type": "code",
   "execution_count": 7,
   "id": "656f3255-6b27-49d3-8cab-5fdb6bfbdba4",
   "metadata": {},
   "outputs": [
    {
     "name": "stdout",
     "output_type": "stream",
     "text": [
      "Чотирнадцяте завдання:\n",
      "   Year  Names\n",
      "0  2009   7372\n"
     ]
    }
   ],
   "source": [
    "# Чотирнадцяте завдання\n",
    "print(\"Чотирнадцяте завдання:\")\n",
    "neutral_names = data.groupby(\"Name\")[\"Gender\"].nunique()\n",
    "neutral_names = neutral_names[neutral_names == 2].index\n",
    "neutral_data = data[data[\"Name\"].isin(neutral_names)]\n",
    "neutral_by_year = neutral_data.groupby(\"Year\")[\"Name\"].nunique()\n",
    "max_year = neutral_by_year.idxmax()\n",
    "max_count = neutral_by_year.max()\n",
    "print(pandas.DataFrame({\"Year\": [max_year], \"Names\": [max_count]}))"
   ]
  },
  {
   "cell_type": "code",
   "execution_count": 14,
   "id": "723c76f6-e8fa-4277-a9a5-8fc2af9f61a6",
   "metadata": {},
   "outputs": [
    {
     "name": "stdout",
     "output_type": "stream",
     "text": [
      "П'ятнадцяте завдання:\n",
      "        Count\n",
      "Year         \n",
      "1880   201484\n",
      "1881   192699\n",
      "1882   221538\n",
      "1883   216950\n",
      "1884   243467\n",
      "...       ...\n",
      "2010  3686589\n",
      "2011  3646730\n",
      "2012  3643336\n",
      "2013  3626802\n",
      "2014  3670151\n",
      "\n",
      "[135 rows x 1 columns]\n"
     ]
    }
   ],
   "source": [
    "# П'ятнадцяте завдання\n",
    "print(\"П'ятнадцяте завдання:\")\n",
    "births_year = data.groupby(\"Year\")[\"Count\"].sum()\n",
    "print(births_year.to_frame())"
   ]
  },
  {
   "cell_type": "code",
   "execution_count": 28,
   "id": "501cfd32-3a29-4cb7-8ae9-4890443312c7",
   "metadata": {},
   "outputs": [
    {
     "name": "stdout",
     "output_type": "stream",
     "text": [
      "Шістнадцяте завдання:\n",
      "        Count\n",
      "Year         \n",
      "1957  4200026\n"
     ]
    }
   ],
   "source": [
    "# Шістнадцяте завдання\n",
    "print(\"Шістнадцяте завдання:\")\n",
    "max_births_year = data.groupby(\"Year\")[\"Count\"].sum()\n",
    "index = max_births_year.idxmax()\n",
    "print(max_births_year.loc[[index]].to_frame())"
   ]
  },
  {
   "cell_type": "code",
   "execution_count": 31,
   "id": "47f399a6-080d-4313-9c1c-c76e0b8124bc",
   "metadata": {},
   "outputs": [
    {
     "name": "stdout",
     "output_type": "stream",
     "text": [
      "Сімнадцяте завдання:\n",
      "Gender        F        M\n",
      "Year                    \n",
      "1880      90993   110491\n",
      "1881      91954   100745\n",
      "1882     107850   113688\n",
      "1883     112321   104629\n",
      "1884     129022   114445\n",
      "...         ...      ...\n",
      "2010    1772738  1913851\n",
      "2011    1753500  1893230\n",
      "2012    1753922  1889414\n",
      "2013    1745339  1881463\n",
      "2014    1768775  1901376\n",
      "\n",
      "[135 rows x 2 columns]\n"
     ]
    }
   ],
   "source": [
    "# Сімнадцяте завдання\n",
    "print(\"Сімнадцяте завдання:\")\n",
    "gender_births = data.groupby([\"Year\", \"Gender\"])[\"Count\"].sum().unstack()\n",
    "print(gender_births)"
   ]
  },
  {
   "cell_type": "code",
   "execution_count": 33,
   "id": "46f7ee50-3c4b-4220-a373-2d2695a39226",
   "metadata": {},
   "outputs": [
    {
     "name": "stdout",
     "output_type": "stream",
     "text": [
      "Вісімнадцяте завдання:\n",
      "Років: 54\n"
     ]
    }
   ],
   "source": [
    "# Вісімнадцяте завдання\n",
    "print(\"Вісімнадцяте завдання:\")\n",
    "gender_births = data.groupby([\"Year\", \"Gender\"])[\"Count\"].sum().unstack()\n",
    "years_females = (gender_births[\"F\"] > gender_births[\"M\"]).sum()\n",
    "print(\"Років:\", years_females)"
   ]
  },
  {
   "cell_type": "code",
   "execution_count": 36,
   "id": "1f0ca212-9237-42df-81dc-60cdfd6189e7",
   "metadata": {},
   "outputs": [
    {
     "name": "stdout",
     "output_type": "stream",
     "text": [
      "Двадцять перше завдання:\n",
      "              Id     Name  Year Gender  Count\n",
      "110789    110790  Barbara  1913      M      7\n",
      "138187    138188  Barbara  1916      M      5\n",
      "147672    147673  Barbara  1917      M      6\n",
      "157668    157669  Barbara  1918      M      7\n",
      "168074    168075  Barbara  1919      M      7\n",
      "...          ...      ...   ...    ...    ...\n",
      "1065067  1065068  Barbara  1989      M     10\n",
      "1092901  1092902  Barbara  1990      M      5\n",
      "1115173  1115174  Barbara  1991      M      9\n",
      "1141602  1141603  Barbara  1992      M      7\n",
      "1169294  1169295  Barbara  1993      M      5\n",
      "\n",
      "[79 rows x 5 columns]\n"
     ]
    }
   ],
   "source": [
    "# Двадцять перше завдання\n",
    "print(\"Двадцять перше завдання:\")\n",
    "temp = data[(data[\"Name\"] == \"Barbara\") & (data[\"Gender\"] == \"M\")]\n",
    "print(len(temp))"
   ]
  },
  {
   "cell_type": "code",
   "execution_count": 4,
   "id": "4b905770-4d74-4575-af0b-2ac5bc869bf9",
   "metadata": {},
   "outputs": [
    {
     "name": "stdout",
     "output_type": "stream",
     "text": [
      "Двадцять друге завдання:\n",
      "Дослідження проводилося 135 років\n"
     ]
    }
   ],
   "source": [
    "# Двадцять друге завдання\n",
    "print(\"Двадцять друге завдання:\")\n",
    "temp = data[\"Year\"].nunique()\n",
    "print(\"Дослідження проводилося\", temp, \"років\")"
   ]
  },
  {
   "cell_type": "code",
   "execution_count": 12,
   "id": "41d97a26-5fd6-4471-899d-ada542b7b3d9",
   "metadata": {},
   "outputs": [
    {
     "name": "stdout",
     "output_type": "stream",
     "text": [
      "Двадцять третє завдання:\n",
      "         Name\n",
      "0       Aaron\n",
      "1       Abbie\n",
      "2        Abel\n",
      "3     Abigail\n",
      "4     Abraham\n",
      "..        ...\n",
      "818    Wilson\n",
      "819  Winifred\n",
      "820    Winnie\n",
      "821     Wyatt\n",
      "822       Zoe\n",
      "\n",
      "[823 rows x 1 columns]\n"
     ]
    }
   ],
   "source": [
    "# Двадцять третє завдання\n",
    "print(\"Двадцять третє завдання:\")\n",
    "neutral_names = data.groupby(\"Name\")[\"Gender\"].nunique()\n",
    "neutral_names = neutral_names[neutral_names == 2].index\n",
    "neutral_data = data[data[\"Name\"].isin(neutral_names)]\n",
    "years_per_name = neutral_data.groupby(\"Name\")[\"Year\"].nunique()\n",
    "total_years = data[\"Year\"].nunique()\n",
    "neutral_names_present_every_year = years_per_name[years_per_name == total_years].index\n",
    "neutral_names_present_every_year = pandas.DataFrame(neutral_names_present_every_year, columns=[\"Name\"])\n",
    "print(neutral_names_present_every_year)"
   ]
  },
  {
   "cell_type": "code",
   "execution_count": 17,
   "id": "c9b684cc-0c90-4424-b0f3-a955726cee94",
   "metadata": {},
   "outputs": [
    {
     "name": "stdout",
     "output_type": "stream",
     "text": [
      "Двадцять четверте завдання:\n",
      "    Name\n",
      "0  Aadan\n"
     ]
    }
   ],
   "source": [
    "# Двадцять четверте завдання\n",
    "print(\"Двадцять четверте завдання:\")\n",
    "years_per_name = data.groupby(\"Name\")[\"Year\"].nunique()\n",
    "unpopular_names = years_per_name[years_per_name < 10]\n",
    "most_popular_among_unpopular = unpopular_names.idxmax()\n",
    "result = pandas.DataFrame({\"Name\": [most_popular_among_unpopular]})\n",
    "print(result)"
   ]
  },
  {
   "cell_type": "code",
   "execution_count": 24,
   "id": "68457364-9eb0-457f-bb6a-37b7bd73a64d",
   "metadata": {},
   "outputs": [
    {
     "name": "stdout",
     "output_type": "stream",
     "text": [
      "Двадцять шосте завдання:\n"
     ]
    },
    {
     "data": {
      "image/png": "[encoded data removed]",
      "text/plain": [
       "<Figure size 1000x500 with 1 Axes>"
      ]
     },
     "metadata": {},
     "output_type": "display_data"
    }
   ],
   "source": [
    "# Двадцять шосте завдання\n",
    "print(\"Двадцять шосте завдання:\")\n",
    "\n",
    "import matplotlib.pyplot\n",
    "\n",
    "john_female = data[(data[\"Name\"] == \"John\") & (data[\"Gender\"] == \"F\")]\n",
    "mary_male = data[(data[\"Name\"] == \"Mary\") & (data[\"Gender\"] == \"M\")]\n",
    "\n",
    "matplotlib.pyplot.figure(figsize=(10, 5), dpi=100)\n",
    "\n",
    "matplotlib.pyplot.plot(john_female[\"Year\"], john_female[\"Count\"], label=\"John (Female)\", linestyle=\"--\", color=\"blue\")\n",
    "matplotlib.pyplot.plot(mary_male[\"Year\"], mary_male[\"Count\"], label=\"Mary (Male)\", linestyle=\"--\", color=\"red\")\n",
    "\n",
    "matplotlib.pyplot.xlabel(\"Рік\")\n",
    "matplotlib.pyplot.ylabel(\"Кількість народжень\")\n",
    "matplotlib.pyplot.title(\"Розподіл кількості жіночих імен John та чоловічих імен Mary по роках\")\n",
    "matplotlib.pyplot.legend()\n",
    "matplotlib.pyplot.grid(True, linestyle=\":\", alpha=0.7)\n",
    "\n",
    "matplotlib.pyplot.show()"
   ]
  },
  {
   "cell_type": "code",
   "execution_count": null,
   "id": "5b2a7eb1-e76f-4f62-bdf7-a39a93e9beb8",
   "metadata": {},
   "outputs": [],
   "source": []
  }
 ],
 "metadata": {
  "kernelspec": {
   "display_name": "Python 3 (ipykernel)",
   "language": "python",
   "name": "python3"
  },
  "language_info": {
   "codemirror_mode": {
    "name": "ipython",
    "version": 3
   },
   "file_extension": ".py",
   "mimetype": "text/x-python",
   "name": "python",
   "nbconvert_exporter": "python",
   "pygments_lexer": "ipython3",
   "version": "3.12.7"
  }
 },
 "nbformat": 4,
 "nbformat_minor": 5
}
